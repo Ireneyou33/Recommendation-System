{
  "nbformat": 4,
  "nbformat_minor": 0,
  "metadata": {
    "colab": {
      "name": "RecommSys.ipynb",
      "provenance": [],
      "collapsed_sections": [],
      "mount_file_id": "1_z3Y066L3zb0HDi4bNLqORb-q-0oan5n",
      "authorship_tag": "ABX9TyPmL6jE5s7eUzIVqzzFYX4r"
    },
    "kernelspec": {
      "name": "python3",
      "display_name": "Python 3"
    }
  },
  "cells": [
    {
      "cell_type": "code",
      "metadata": {
        "id": "1O7d3T9P9MUZ",
        "colab_type": "code",
        "colab": {
          "base_uri": "https://localhost:8080/",
          "height": 306
        },
        "outputId": "20cc5cdc-67f6-4b36-941f-2abe64596699"
      },
      "source": [
        "!pip install surprise"
      ],
      "execution_count": null,
      "outputs": [
        {
          "output_type": "stream",
          "text": [
            "Collecting surprise\n",
            "  Downloading https://files.pythonhosted.org/packages/61/de/e5cba8682201fcf9c3719a6fdda95693468ed061945493dea2dd37c5618b/surprise-0.1-py2.py3-none-any.whl\n",
            "Collecting scikit-surprise\n",
            "\u001b[?25l  Downloading https://files.pythonhosted.org/packages/97/37/5d334adaf5ddd65da99fc65f6507e0e4599d092ba048f4302fe8775619e8/scikit-surprise-1.1.1.tar.gz (11.8MB)\n",
            "\u001b[K     |████████████████████████████████| 11.8MB 264kB/s \n",
            "\u001b[?25hRequirement already satisfied: joblib>=0.11 in /usr/local/lib/python3.6/dist-packages (from scikit-surprise->surprise) (0.16.0)\n",
            "Requirement already satisfied: numpy>=1.11.2 in /usr/local/lib/python3.6/dist-packages (from scikit-surprise->surprise) (1.18.5)\n",
            "Requirement already satisfied: scipy>=1.0.0 in /usr/local/lib/python3.6/dist-packages (from scikit-surprise->surprise) (1.4.1)\n",
            "Requirement already satisfied: six>=1.10.0 in /usr/local/lib/python3.6/dist-packages (from scikit-surprise->surprise) (1.12.0)\n",
            "Building wheels for collected packages: scikit-surprise\n",
            "  Building wheel for scikit-surprise (setup.py) ... \u001b[?25l\u001b[?25hdone\n",
            "  Created wheel for scikit-surprise: filename=scikit_surprise-1.1.1-cp36-cp36m-linux_x86_64.whl size=1646950 sha256=ddebf3ba7925705e9abd22ae3b50f014180b6892d7bb9515e1c3b6f5000871de\n",
            "  Stored in directory: /root/.cache/pip/wheels/78/9c/3d/41b419c9d2aff5b6e2b4c0fc8d25c538202834058f9ed110d0\n",
            "Successfully built scikit-surprise\n",
            "Installing collected packages: scikit-surprise, surprise\n",
            "Successfully installed scikit-surprise-1.1.1 surprise-0.1\n"
          ],
          "name": "stdout"
        }
      ]
    },
    {
      "cell_type": "code",
      "metadata": {
        "id": "v8vVbrEv9Rr0",
        "colab_type": "code",
        "colab": {}
      },
      "source": [
        "import pandas as pd\n",
        "import numpy as np\n",
        "import math\n",
        "import re\n",
        "from scipy.sparse import csr_matrix\n",
        "import matplotlib.pyplot as plt\n",
        "import seaborn as sns\n",
        "from surprise import Reader, Dataset, SVD"
      ],
      "execution_count": null,
      "outputs": []
    },
    {
      "cell_type": "code",
      "metadata": {
        "id": "V0-XfoRgYESc",
        "colab_type": "code",
        "colab": {}
      },
      "source": [
        "# from surprise import evaluate"
      ],
      "execution_count": null,
      "outputs": []
    },
    {
      "cell_type": "code",
      "metadata": {
        "id": "Ch8HqU1W9VOw",
        "colab_type": "code",
        "colab": {
          "base_uri": "https://localhost:8080/",
          "height": 151
        },
        "outputId": "082ce604-3a50-4bc6-aaf7-1ef4c2177c33"
      },
      "source": [
        "# Skip date\n",
        "df1 = pd.read_csv('/content/drive/My Drive/N/Projects/Recommendation System/combined_data_1.txt', header = None, names = ['Cust_Id', 'Rating'], usecols = [0,1])\n",
        "\n",
        "df1['Rating'] = df1['Rating'].astype(float)\n",
        "\n",
        "print('Dataset 1 shape: {}'.format(df1.shape))\n",
        "print('-Dataset examples-')\n",
        "print(df1.iloc[::5000000, :])"
      ],
      "execution_count": null,
      "outputs": [
        {
          "output_type": "stream",
          "text": [
            "Dataset 1 shape: (24058263, 2)\n",
            "-Dataset examples-\n",
            "          Cust_Id  Rating\n",
            "0              1:     NaN\n",
            "5000000   2560324     4.0\n",
            "10000000  2271935     2.0\n",
            "15000000  1921803     2.0\n",
            "20000000  1933327     3.0\n"
          ],
          "name": "stdout"
        }
      ]
    },
    {
      "cell_type": "code",
      "metadata": {
        "id": "zMtNLelI_5Fd",
        "colab_type": "code",
        "colab": {}
      },
      "source": [
        "#df2 = pd.read_csv('/content/drive/My Drive/N/Projects/Recommendation System/combined_data_2.txt', header = None, names = ['Cust_Id', 'Rating'], usecols = [0,1])\n",
        "#df3 = pd.read_csv('/content/drive/My Drive/N/Projects/Recommendation System/combined_data_3.txt', header = None, names = ['Cust_Id', 'Rating'], usecols = [0,1])\n",
        "#df4 = pd.read_csv('/content/drive/My Drive/N/Projects/Recommendation System/combined_data_4.txt', header = None, names = ['Cust_Id', 'Rating'], usecols = [0,1])\n",
        "\n",
        "\n",
        "#df2['Rating'] = df2['Rating'].astype(float)\n",
        "#df3['Rating'] = df3['Rating'].astype(float)\n",
        "#df4['Rating'] = df4['Rating'].astype(float)\n",
        "\n",
        "#print('Dataset 2 shape: {}'.format(df2.shape))\n",
        "#print('Dataset 3 shape: {}'.format(df3.shape))\n",
        "#print('Dataset 4 shape: {}'.format(df4.shape))"
      ],
      "execution_count": null,
      "outputs": []
    },
    {
      "cell_type": "code",
      "metadata": {
        "id": "9Shs3UloBodo",
        "colab_type": "code",
        "colab": {
          "base_uri": "https://localhost:8080/",
          "height": 151
        },
        "outputId": "21f2a9ae-93c0-4868-cc88-ffb9bac98b38"
      },
      "source": [
        "# load less data for speed\n",
        "\n",
        "df = df1\n",
        "#df = df1.append(df2)\n",
        "#df = df.append(df3)\n",
        "#df = df.append(df4)\n",
        "\n",
        "df.index = np.arange(0,len(df))\n",
        "print('Full dataset shape: {}'.format(df.shape))\n",
        "print('-Dataset examples-')\n",
        "print(df.iloc[::5000000, :])"
      ],
      "execution_count": null,
      "outputs": [
        {
          "output_type": "stream",
          "text": [
            "Full dataset shape: (24058263, 2)\n",
            "-Dataset examples-\n",
            "          Cust_Id  Rating\n",
            "0              1:     NaN\n",
            "5000000   2560324     4.0\n",
            "10000000  2271935     2.0\n",
            "15000000  1921803     2.0\n",
            "20000000  1933327     3.0\n"
          ],
          "name": "stdout"
        }
      ]
    },
    {
      "cell_type": "code",
      "metadata": {
        "id": "pXXfgSYdBr6n",
        "colab_type": "code",
        "colab": {}
      },
      "source": [
        ""
      ],
      "execution_count": null,
      "outputs": []
    },
    {
      "cell_type": "markdown",
      "metadata": {
        "id": "OV6eIDPSBzJu",
        "colab_type": "text"
      },
      "source": [
        "Data Viewing"
      ]
    },
    {
      "cell_type": "code",
      "metadata": {
        "id": "gwCPchJkB1W9",
        "colab_type": "code",
        "colab": {
          "base_uri": "https://localhost:8080/",
          "height": 34
        },
        "outputId": "c4815138-a966-42d2-b8ed-0493b24ccbb2"
      },
      "source": [
        "p = df.groupby('Rating')['Rating'].agg(['count'])\n",
        "\n",
        "# get movie count\n",
        "movie_count = df.isnull().sum()[1]\n",
        "\n",
        "movie_count"
      ],
      "execution_count": null,
      "outputs": [
        {
          "output_type": "execute_result",
          "data": {
            "text/plain": [
              "4499"
            ]
          },
          "metadata": {
            "tags": []
          },
          "execution_count": 10
        }
      ]
    },
    {
      "cell_type": "code",
      "metadata": {
        "id": "OmRARPQJEDYI",
        "colab_type": "code",
        "colab": {
          "base_uri": "https://localhost:8080/",
          "height": 456
        },
        "outputId": "0968822d-fe23-4391-c892-faf2f409173c"
      },
      "source": [
        "# get customer count\n",
        "cust_count = df['Cust_Id'].nunique() - movie_count\n",
        "\n",
        "# get rating count\n",
        "rating_count = df['Cust_Id'].count() - movie_count\n",
        "\n",
        "ax = p.plot(kind = 'barh', legend = False, figsize = (15,10))\n",
        "plt.title('Total pool: {:,} Movies, {:,} customers, {:,} ratings given'.format(movie_count, cust_count, rating_count), fontsize=20)\n",
        "plt.axis('off')\n",
        "\n",
        "for i in range(1,6):\n",
        "    ax.text(p.iloc[i-1][0]/4, i-1, 'Rating {}: {:.0f}%'.format(i, p.iloc[i-1][0]*100 / p.sum()[0]), color = 'white', weight = 'bold')"
      ],
      "execution_count": null,
      "outputs": [
        {
          "output_type": "display_data",
          "data": {
            "image/png": "[encoded data removed]",
            "text/plain": [
              "<Figure size 1080x720 with 1 Axes>"
            ]
          },
          "metadata": {
            "tags": [],
            "needs_background": "light"
          }
        }
      ]
    },
    {
      "cell_type": "markdown",
      "metadata": {
        "id": "iaT2ddK-KAhc",
        "colab_type": "text"
      },
      "source": [
        "Data Cleaning"
      ]
    },
    {
      "cell_type": "code",
      "metadata": {
        "id": "BKD0levFIUX3",
        "colab_type": "code",
        "colab": {
          "base_uri": "https://localhost:8080/",
          "height": 402
        },
        "outputId": "9470e5d7-0d12-49ba-b0b7-d7a4bfc28e59"
      },
      "source": [
        "df_nan = pd.DataFrame(pd.isnull(df.Rating))\n",
        "df_nan = df_nan[df_nan['Rating'] == True]\n",
        "df_nan = df_nan.reset_index()\n",
        "df_nan"
      ],
      "execution_count": null,
      "outputs": [
        {
          "output_type": "execute_result",
          "data": {
            "text/html": [
              "<div>\n",
              "<style scoped>\n",
              "    .dataframe tbody tr th:only-of-type {\n",
              "        vertical-align: middle;\n",
              "    }\n",
              "\n",
              "    .dataframe tbody tr th {\n",
              "        vertical-align: top;\n",
              "    }\n",
              "\n",
              "    .dataframe thead th {\n",
              "        text-align: right;\n",
              "    }\n",
              "</style>\n",
              "<table border=\"1\" class=\"dataframe\">\n",
              "  <thead>\n",
              "    <tr style=\"text-align: right;\">\n",
              "      <th></th>\n",
              "      <th>index</th>\n",
              "      <th>Rating</th>\n",
              "    </tr>\n",
              "  </thead>\n",
              "  <tbody>\n",
              "    <tr>\n",
              "      <th>0</th>\n",
              "      <td>0</td>\n",
              "      <td>True</td>\n",
              "    </tr>\n",
              "    <tr>\n",
              "      <th>1</th>\n",
              "      <td>548</td>\n",
              "      <td>True</td>\n",
              "    </tr>\n",
              "    <tr>\n",
              "      <th>2</th>\n",
              "      <td>694</td>\n",
              "      <td>True</td>\n",
              "    </tr>\n",
              "    <tr>\n",
              "      <th>3</th>\n",
              "      <td>2707</td>\n",
              "      <td>True</td>\n",
              "    </tr>\n",
              "    <tr>\n",
              "      <th>4</th>\n",
              "      <td>2850</td>\n",
              "      <td>True</td>\n",
              "    </tr>\n",
              "    <tr>\n",
              "      <th>...</th>\n",
              "      <td>...</td>\n",
              "      <td>...</td>\n",
              "    </tr>\n",
              "    <tr>\n",
              "      <th>4494</th>\n",
              "      <td>24046714</td>\n",
              "      <td>True</td>\n",
              "    </tr>\n",
              "    <tr>\n",
              "      <th>4495</th>\n",
              "      <td>24047329</td>\n",
              "      <td>True</td>\n",
              "    </tr>\n",
              "    <tr>\n",
              "      <th>4496</th>\n",
              "      <td>24056849</td>\n",
              "      <td>True</td>\n",
              "    </tr>\n",
              "    <tr>\n",
              "      <th>4497</th>\n",
              "      <td>24057564</td>\n",
              "      <td>True</td>\n",
              "    </tr>\n",
              "    <tr>\n",
              "      <th>4498</th>\n",
              "      <td>24057834</td>\n",
              "      <td>True</td>\n",
              "    </tr>\n",
              "  </tbody>\n",
              "</table>\n",
              "<p>4499 rows × 2 columns</p>\n",
              "</div>"
            ],
            "text/plain": [
              "         index  Rating\n",
              "0            0    True\n",
              "1          548    True\n",
              "2          694    True\n",
              "3         2707    True\n",
              "4         2850    True\n",
              "...        ...     ...\n",
              "4494  24046714    True\n",
              "4495  24047329    True\n",
              "4496  24056849    True\n",
              "4497  24057564    True\n",
              "4498  24057834    True\n",
              "\n",
              "[4499 rows x 2 columns]"
            ]
          },
          "metadata": {
            "tags": []
          },
          "execution_count": 12
        }
      ]
    },
    {
      "cell_type": "code",
      "metadata": {
        "id": "m-wyyHSOISVe",
        "colab_type": "code",
        "colab": {}
      },
      "source": [
        "movie_np = []\n",
        "movie_id = 1\n",
        "\n",
        "for i,j in zip(df_nan['index'][1:],df_nan['index'][:-1]):\n",
        "  # numpy approach\n",
        "  temp = np.full((1,i-j-1), movie_id)\n",
        "  movie_np = np.append(movie_np, temp)\n",
        "  movie_id += 1"
      ],
      "execution_count": null,
      "outputs": []
    },
    {
      "cell_type": "code",
      "metadata": {
        "id": "Cpol3IkZK41K",
        "colab_type": "code",
        "colab": {
          "base_uri": "https://localhost:8080/",
          "height": 50
        },
        "outputId": "aa9ee3b7-4f00-4bf3-f5df-02de7861bc9d"
      },
      "source": [
        "# Account for last record and corresponding length\n",
        "# numpy approach\n",
        "last_record = np.full((1,len(df) - df_nan.iloc[-1, 0] - 1),movie_id)\n",
        "movie_np = np.append(movie_np, last_record)\n",
        "\n",
        "print('Movie numpy: {}'.format(movie_np))\n",
        "print('Length: {}'.format(len(movie_np)))"
      ],
      "execution_count": null,
      "outputs": [
        {
          "output_type": "stream",
          "text": [
            "Movie numpy: [1.000e+00 1.000e+00 1.000e+00 ... 4.499e+03 4.499e+03 4.499e+03]\n",
            "Length: 24053764\n"
          ],
          "name": "stdout"
        }
      ]
    },
    {
      "cell_type": "code",
      "metadata": {
        "id": "ssugT_NSMAsj",
        "colab_type": "code",
        "colab": {
          "base_uri": "https://localhost:8080/",
          "height": 356
        },
        "outputId": "be4f78ef-0400-4e7d-e6a9-50f8a682bfd9"
      },
      "source": [
        "# remove those Movie ID rows\n",
        "df = df[pd.notnull(df['Rating'])]\n",
        "\n",
        "df['Movie_Id'] = movie_np.astype(int)\n",
        "df['Cust_Id'] = df['Cust_Id'].astype(int)\n",
        "print('-Dataset examples-')\n",
        "print(df.iloc[::5000000, :])"
      ],
      "execution_count": null,
      "outputs": [
        {
          "output_type": "stream",
          "text": [
            "/usr/local/lib/python3.6/dist-packages/ipykernel_launcher.py:4: SettingWithCopyWarning: \n",
            "A value is trying to be set on a copy of a slice from a DataFrame.\n",
            "Try using .loc[row_indexer,col_indexer] = value instead\n",
            "\n",
            "See the caveats in the documentation: https://pandas.pydata.org/pandas-docs/stable/user_guide/indexing.html#returning-a-view-versus-a-copy\n",
            "  after removing the cwd from sys.path.\n"
          ],
          "name": "stderr"
        },
        {
          "output_type": "stream",
          "text": [
            "-Dataset examples-\n",
            "          Cust_Id  Rating  Movie_Id\n",
            "1         1488844     3.0         1\n",
            "5000996    501954     2.0       996\n",
            "10001962   404654     5.0      1962\n",
            "15002876   886608     2.0      2876\n",
            "20003825  1193835     2.0      3825\n"
          ],
          "name": "stdout"
        },
        {
          "output_type": "stream",
          "text": [
            "/usr/local/lib/python3.6/dist-packages/ipykernel_launcher.py:5: SettingWithCopyWarning: \n",
            "A value is trying to be set on a copy of a slice from a DataFrame.\n",
            "Try using .loc[row_indexer,col_indexer] = value instead\n",
            "\n",
            "See the caveats in the documentation: https://pandas.pydata.org/pandas-docs/stable/user_guide/indexing.html#returning-a-view-versus-a-copy\n",
            "  \"\"\"\n"
          ],
          "name": "stderr"
        }
      ]
    },
    {
      "cell_type": "code",
      "metadata": {
        "id": "BUJAu7YNMjUS",
        "colab_type": "code",
        "colab": {}
      },
      "source": [
        ""
      ],
      "execution_count": null,
      "outputs": []
    },
    {
      "cell_type": "markdown",
      "metadata": {
        "id": "R7vUYZWgMnZy",
        "colab_type": "text"
      },
      "source": [
        "Data Slicing"
      ]
    },
    {
      "cell_type": "markdown",
      "metadata": {
        "id": "N-2oQtuxM3Kk",
        "colab_type": "text"
      },
      "source": [
        "To save memory\n",
        "\n",
        "\n",
        "*   Remove movie with too less reviews (they are relatively not popular)\n",
        "*   Remove customer who give too less reviews (they are relatively less active)\n",
        "\n"
      ]
    },
    {
      "cell_type": "code",
      "metadata": {
        "id": "uKRvYFGYMoVf",
        "colab_type": "code",
        "colab": {
          "base_uri": "https://localhost:8080/",
          "height": 431
        },
        "outputId": "914835bd-fcff-47bd-9e30-26dfac264c5f"
      },
      "source": [
        "f = ['count','mean']\n",
        "df_movie_summary = df.groupby('Movie_Id')['Rating'].agg(f)\n",
        "df_movie_summary"
      ],
      "execution_count": null,
      "outputs": [
        {
          "output_type": "execute_result",
          "data": {
            "text/html": [
              "<div>\n",
              "<style scoped>\n",
              "    .dataframe tbody tr th:only-of-type {\n",
              "        vertical-align: middle;\n",
              "    }\n",
              "\n",
              "    .dataframe tbody tr th {\n",
              "        vertical-align: top;\n",
              "    }\n",
              "\n",
              "    .dataframe thead th {\n",
              "        text-align: right;\n",
              "    }\n",
              "</style>\n",
              "<table border=\"1\" class=\"dataframe\">\n",
              "  <thead>\n",
              "    <tr style=\"text-align: right;\">\n",
              "      <th></th>\n",
              "      <th>count</th>\n",
              "      <th>mean</th>\n",
              "    </tr>\n",
              "    <tr>\n",
              "      <th>Movie_Id</th>\n",
              "      <th></th>\n",
              "      <th></th>\n",
              "    </tr>\n",
              "  </thead>\n",
              "  <tbody>\n",
              "    <tr>\n",
              "      <th>1</th>\n",
              "      <td>547</td>\n",
              "      <td>3.749543</td>\n",
              "    </tr>\n",
              "    <tr>\n",
              "      <th>2</th>\n",
              "      <td>145</td>\n",
              "      <td>3.558621</td>\n",
              "    </tr>\n",
              "    <tr>\n",
              "      <th>3</th>\n",
              "      <td>2012</td>\n",
              "      <td>3.641153</td>\n",
              "    </tr>\n",
              "    <tr>\n",
              "      <th>4</th>\n",
              "      <td>142</td>\n",
              "      <td>2.739437</td>\n",
              "    </tr>\n",
              "    <tr>\n",
              "      <th>5</th>\n",
              "      <td>1140</td>\n",
              "      <td>3.919298</td>\n",
              "    </tr>\n",
              "    <tr>\n",
              "      <th>...</th>\n",
              "      <td>...</td>\n",
              "      <td>...</td>\n",
              "    </tr>\n",
              "    <tr>\n",
              "      <th>4495</th>\n",
              "      <td>614</td>\n",
              "      <td>3.478827</td>\n",
              "    </tr>\n",
              "    <tr>\n",
              "      <th>4496</th>\n",
              "      <td>9519</td>\n",
              "      <td>3.763000</td>\n",
              "    </tr>\n",
              "    <tr>\n",
              "      <th>4497</th>\n",
              "      <td>714</td>\n",
              "      <td>2.715686</td>\n",
              "    </tr>\n",
              "    <tr>\n",
              "      <th>4498</th>\n",
              "      <td>269</td>\n",
              "      <td>2.464684</td>\n",
              "    </tr>\n",
              "    <tr>\n",
              "      <th>4499</th>\n",
              "      <td>428</td>\n",
              "      <td>2.614486</td>\n",
              "    </tr>\n",
              "  </tbody>\n",
              "</table>\n",
              "<p>4499 rows × 2 columns</p>\n",
              "</div>"
            ],
            "text/plain": [
              "          count      mean\n",
              "Movie_Id                 \n",
              "1           547  3.749543\n",
              "2           145  3.558621\n",
              "3          2012  3.641153\n",
              "4           142  2.739437\n",
              "5          1140  3.919298\n",
              "...         ...       ...\n",
              "4495        614  3.478827\n",
              "4496       9519  3.763000\n",
              "4497        714  2.715686\n",
              "4498        269  2.464684\n",
              "4499        428  2.614486\n",
              "\n",
              "[4499 rows x 2 columns]"
            ]
          },
          "metadata": {
            "tags": []
          },
          "execution_count": 16
        }
      ]
    },
    {
      "cell_type": "code",
      "metadata": {
        "id": "w9Zcbfn1NKgH",
        "colab_type": "code",
        "colab": {
          "base_uri": "https://localhost:8080/",
          "height": 34
        },
        "outputId": "e4dbc7d2-ca99-4505-b06e-01baab8ab704"
      },
      "source": [
        "df_movie_summary.index = df_movie_summary.index.map(int)\n",
        "movie_benchmark = round(df_movie_summary['count'].quantile(0.7),0)\n",
        "drop_movie_list = df_movie_summary[df_movie_summary['count'] < movie_benchmark].index\n",
        "print('Movie minimum times of review: {}'.format(movie_benchmark))"
      ],
      "execution_count": null,
      "outputs": [
        {
          "output_type": "stream",
          "text": [
            "Movie minimum times of review: 1799.0\n"
          ],
          "name": "stdout"
        }
      ]
    },
    {
      "cell_type": "code",
      "metadata": {
        "id": "8EzHSGnqNYtp",
        "colab_type": "code",
        "colab": {
          "base_uri": "https://localhost:8080/",
          "height": 34
        },
        "outputId": "8f832601-2b8e-4c81-b5bf-c3afedba4620"
      },
      "source": [
        "df_cust_summary = df.groupby('Cust_Id')['Rating'].agg(f)\n",
        "df_cust_summary.index = df_cust_summary.index.map(int)\n",
        "cust_benchmark = round(df_cust_summary['count'].quantile(0.7),0)\n",
        "drop_cust_list = df_cust_summary[df_cust_summary['count'] < cust_benchmark].index\n",
        "\n",
        "print('Customer minimum times of review: {}'.format(cust_benchmark))"
      ],
      "execution_count": null,
      "outputs": [
        {
          "output_type": "stream",
          "text": [
            "Customer minimum times of review: 52.0\n"
          ],
          "name": "stdout"
        }
      ]
    },
    {
      "cell_type": "code",
      "metadata": {
        "id": "U41ycYE_PeoO",
        "colab_type": "code",
        "colab": {
          "base_uri": "https://localhost:8080/",
          "height": 151
        },
        "outputId": "7ab85e38-6b2f-420e-c8b7-f2e0193a18cf"
      },
      "source": [
        "print('Original Shape: {}'.format(df.shape))\n",
        "df = df[~df['Movie_Id'].isin(drop_movie_list)]\n",
        "df = df[~df['Cust_Id'].isin(drop_cust_list)]\n",
        "print('After Trim Shape: {}'.format(df.shape))\n",
        "print('-Data Examples-')\n",
        "print(df.iloc[::5000000, :])"
      ],
      "execution_count": null,
      "outputs": [
        {
          "output_type": "stream",
          "text": [
            "Original Shape: (24053764, 3)\n",
            "After Trim Shape: (17337458, 3)\n",
            "-Data Examples-\n",
            "          Cust_Id  Rating  Movie_Id\n",
            "696        712664     5.0         3\n",
            "6932490   1299309     5.0      1384\n",
            "13860273   400155     3.0      2660\n",
            "20766530   466962     4.0      3923\n"
          ],
          "name": "stdout"
        }
      ]
    },
    {
      "cell_type": "code",
      "metadata": {
        "id": "CiYOVsXcPgjD",
        "colab_type": "code",
        "colab": {
          "base_uri": "https://localhost:8080/",
          "height": 269
        },
        "outputId": "73d3291a-773f-43d0-d820-43352481ae2f"
      },
      "source": [
        "df_p = pd.pivot_table(df,values='Rating',index='Cust_Id',columns='Movie_Id')\n",
        "print(df_p)"
      ],
      "execution_count": null,
      "outputs": [
        {
          "output_type": "stream",
          "text": [
            "Movie_Id  3     8     16    17    18    ...  4488  4490  4492  4493  4496\n",
            "Cust_Id                                 ...                              \n",
            "6          NaN   NaN   NaN   NaN   NaN  ...   NaN   NaN   NaN   NaN   NaN\n",
            "7          NaN   5.0   NaN   NaN   NaN  ...   NaN   NaN   NaN   NaN   NaN\n",
            "79         NaN   NaN   NaN   NaN   NaN  ...   NaN   4.0   NaN   NaN   NaN\n",
            "97         NaN   NaN   NaN   NaN   NaN  ...   NaN   NaN   NaN   NaN   NaN\n",
            "134        NaN   NaN   NaN   NaN   NaN  ...   NaN   NaN   NaN   NaN   NaN\n",
            "...        ...   ...   ...   ...   ...  ...   ...   ...   ...   ...   ...\n",
            "2649370    NaN   NaN   NaN   NaN   NaN  ...   NaN   NaN   NaN   NaN   NaN\n",
            "2649378    NaN   NaN   NaN   NaN   NaN  ...   NaN   NaN   NaN   NaN   NaN\n",
            "2649388    NaN   NaN   NaN   NaN   NaN  ...   3.0   NaN   NaN   NaN   NaN\n",
            "2649426    NaN   NaN   NaN   4.0   NaN  ...   NaN   NaN   NaN   NaN   NaN\n",
            "2649429    NaN   NaN   NaN   NaN   NaN  ...   NaN   NaN   NaN   NaN   NaN\n",
            "\n",
            "[143458 rows x 1350 columns]\n"
          ],
          "name": "stdout"
        }
      ]
    },
    {
      "cell_type": "markdown",
      "metadata": {
        "id": "KKoqXYNuUJrs",
        "colab_type": "text"
      },
      "source": [
        "Data Mapping"
      ]
    },
    {
      "cell_type": "code",
      "metadata": {
        "id": "ntlgsz9cULBb",
        "colab_type": "code",
        "colab": {
          "base_uri": "https://localhost:8080/",
          "height": 218
        },
        "outputId": "87365cf0-f59e-4265-bbfa-d754d8fbd1c1"
      },
      "source": [
        "df_title = pd.read_csv('/content/drive/My Drive/N/Projects/Recommendation System/movie_titles.csv', encoding = \"ISO-8859-1\", header = None, names = ['Movie_Id', 'Year', 'Name'])\n",
        "df_title.set_index('Movie_Id', inplace = True)\n",
        "print (df_title.head(10))"
      ],
      "execution_count": null,
      "outputs": [
        {
          "output_type": "stream",
          "text": [
            "            Year                          Name\n",
            "Movie_Id                                      \n",
            "1         2003.0               Dinosaur Planet\n",
            "2         2004.0    Isle of Man TT 2004 Review\n",
            "3         1997.0                     Character\n",
            "4         1994.0  Paula Abdul's Get Up & Dance\n",
            "5         2004.0      The Rise and Fall of ECW\n",
            "6         1997.0                          Sick\n",
            "7         1992.0                         8 Man\n",
            "8         2004.0    What the #$*! Do We Know!?\n",
            "9         1991.0      Class of Nuke 'Em High 2\n",
            "10        2001.0                       Fighter\n"
          ],
          "name": "stdout"
        }
      ]
    },
    {
      "cell_type": "code",
      "metadata": {
        "id": "4WCL4_dPU6Wc",
        "colab_type": "code",
        "colab": {}
      },
      "source": [
        ""
      ],
      "execution_count": null,
      "outputs": []
    },
    {
      "cell_type": "markdown",
      "metadata": {
        "id": "wi3L12wJU9mG",
        "colab_type": "text"
      },
      "source": [
        "## Recommendation Models"
      ]
    },
    {
      "cell_type": "markdown",
      "metadata": {
        "id": "ifVQVgwmVY6_",
        "colab_type": "text"
      },
      "source": [
        "collaborative filtering"
      ]
    },
    {
      "cell_type": "code",
      "metadata": {
        "id": "nTYsD7k9VAMC",
        "colab_type": "code",
        "colab": {}
      },
      "source": [
        "reader = Reader()"
      ],
      "execution_count": null,
      "outputs": []
    },
    {
      "cell_type": "code",
      "metadata": {
        "id": "j6MPF2_PXnlB",
        "colab_type": "code",
        "colab": {}
      },
      "source": [
        "from surprise.model_selection import KFold, cross_validate"
      ],
      "execution_count": null,
      "outputs": []
    },
    {
      "cell_type": "code",
      "metadata": {
        "id": "ObrFMdJVWGrd",
        "colab_type": "code",
        "colab": {}
      },
      "source": [
        "# get just top 100K rows for faster run time\n",
        "data = Dataset.load_from_df(df[['Cust_Id', 'Movie_Id', 'Rating']][:100000], reader)\n",
        "# kf = KFold(n_splits=3)\n",
        "# kf.split(data)"
      ],
      "execution_count": null,
      "outputs": []
    },
    {
      "cell_type": "code",
      "metadata": {
        "id": "i-CpZiD7WQLu",
        "colab_type": "code",
        "colab": {
          "base_uri": "https://localhost:8080/",
          "height": 202
        },
        "outputId": "2723e51e-7da2-44e2-f26e-353d0235d215"
      },
      "source": [
        "svd=SVD()\n",
        "cross_validate(svd, data, measures=['RMSE', 'MAE'], cv=3, verbose=True)"
      ],
      "execution_count": null,
      "outputs": [
        {
          "output_type": "stream",
          "text": [
            "Evaluating RMSE, MAE of algorithm SVD on 3 split(s).\n",
            "\n",
            "                  Fold 1  Fold 2  Fold 3  Mean    Std     \n",
            "RMSE (testset)    0.9974  0.9996  0.9949  0.9973  0.0019  \n",
            "MAE (testset)     0.7982  0.8036  0.7914  0.7977  0.0050  \n",
            "Fit time          3.76    3.72    3.70    3.73    0.03    \n",
            "Test time         0.27    0.19    0.19    0.22    0.04    \n"
          ],
          "name": "stdout"
        },
        {
          "output_type": "execute_result",
          "data": {
            "text/plain": [
              "{'fit_time': (3.7617316246032715, 3.721106767654419, 3.6963837146759033),\n",
              " 'test_mae': array([0.79820789, 0.80360171, 0.79142785]),\n",
              " 'test_rmse': array([0.99741987, 0.99963454, 0.99488091]),\n",
              " 'test_time': (0.27222657203674316, 0.18589234352111816, 0.19385552406311035)}"
            ]
          },
          "metadata": {
            "tags": []
          },
          "execution_count": 25
        }
      ]
    },
    {
      "cell_type": "code",
      "metadata": {
        "id": "SnUuq4RuYlS2",
        "colab_type": "code",
        "colab": {
          "base_uri": "https://localhost:8080/",
          "height": 806
        },
        "outputId": "a4bc540b-50ad-47b8-a8f8-669a67b63e2a"
      },
      "source": [
        "# user 785314\n",
        "df_785314 = df[(df['Cust_Id'] == 785314) & (df['Rating'] == 5)]\n",
        "df_785314 = df_785314.set_index('Movie_Id')\n",
        "df_785314 = df_785314.join(df_title)['Name']\n",
        "print(df_785314)"
      ],
      "execution_count": null,
      "outputs": [
        {
          "output_type": "stream",
          "text": [
            "Movie_Id\n",
            "57                                            Richard III\n",
            "175                                        Reservoir Dogs\n",
            "311                                               Ed Wood\n",
            "329                                                 Dogma\n",
            "331                                           Chasing Amy\n",
            "395                                         Captain Blood\n",
            "788                                                Clerks\n",
            "798                                                  Jaws\n",
            "907                                       Animal Crackers\n",
            "985                                             The Mummy\n",
            "1552                                          Black Adder\n",
            "1905    Pirates of the Caribbean: The Curse of the Bla...\n",
            "2000                          Four Weddings and a Funeral\n",
            "2122                                 Being John Malkovich\n",
            "2342                                        Super Size Me\n",
            "2360                                  Singin' in the Rain\n",
            "2430                           Alien: Collector's Edition\n",
            "2443                             Like Water for Chocolate\n",
            "2452        Lord of the Rings: The Fellowship of the Ring\n",
            "2465                                   This Is Spinal Tap\n",
            "2554                        The Rocky Horror Picture Show\n",
            "2847                                    The Mark of Zorro\n",
            "2848                                          The Hustler\n",
            "2862                             The Silence of the Lambs\n",
            "3150                     Monty Python: The Life of Python\n",
            "3168                            Evil Dead 2: Dead by Dawn\n",
            "3198                                    The Addams Family\n",
            "3315                                   The Maltese Falcon\n",
            "3446                                        Spirited Away\n",
            "3489                                         Time Bandits\n",
            "3590                              Jason and the Argonauts\n",
            "3648            Who Framed Roger Rabbit?: Special Edition\n",
            "3798                                            The Sting\n",
            "3935                                     Yellow Submarine\n",
            "3949        Terminator 2: Extreme Edition: Bonus Material\n",
            "3962                            Finding Nemo (Widescreen)\n",
            "3984                                         On the Beach\n",
            "4080                                        A Mighty Wind\n",
            "4227                                       The Full Monty\n",
            "4253                             Kind Hearts and Coronets\n",
            "4306                                      The Sixth Sense\n",
            "4345                                Bowling for Columbine\n",
            "4356                                    Road to Perdition\n",
            "4392                                     Army of Darkness\n",
            "4454                                 To Have and Have Not\n",
            "Name: Name, dtype: object\n"
          ],
          "name": "stdout"
        }
      ]
    },
    {
      "cell_type": "code",
      "metadata": {
        "id": "4Zv7hpLxaR_H",
        "colab_type": "code",
        "colab": {}
      },
      "source": [
        ""
      ],
      "execution_count": null,
      "outputs": []
    },
    {
      "cell_type": "markdown",
      "metadata": {
        "id": "6sp1HXNoaVBV",
        "colab_type": "text"
      },
      "source": [
        "Prediction"
      ]
    },
    {
      "cell_type": "code",
      "metadata": {
        "id": "j3yqKVkRaWGc",
        "colab_type": "code",
        "colab": {
          "base_uri": "https://localhost:8080/",
          "height": 402
        },
        "outputId": "b5ac90c2-3f9c-435e-fae9-1a527edaa918"
      },
      "source": [
        "user_785314 = df_title.copy()\n",
        "user_785314 = user_785314.reset_index()\n",
        "user_785314 = user_785314[~user_785314['Movie_Id'].isin(drop_movie_list)]\n",
        "user_785314"
      ],
      "execution_count": null,
      "outputs": [
        {
          "output_type": "execute_result",
          "data": {
            "text/html": [
              "<div>\n",
              "<style scoped>\n",
              "    .dataframe tbody tr th:only-of-type {\n",
              "        vertical-align: middle;\n",
              "    }\n",
              "\n",
              "    .dataframe tbody tr th {\n",
              "        vertical-align: top;\n",
              "    }\n",
              "\n",
              "    .dataframe thead th {\n",
              "        text-align: right;\n",
              "    }\n",
              "</style>\n",
              "<table border=\"1\" class=\"dataframe\">\n",
              "  <thead>\n",
              "    <tr style=\"text-align: right;\">\n",
              "      <th></th>\n",
              "      <th>Movie_Id</th>\n",
              "      <th>Year</th>\n",
              "      <th>Name</th>\n",
              "    </tr>\n",
              "  </thead>\n",
              "  <tbody>\n",
              "    <tr>\n",
              "      <th>2</th>\n",
              "      <td>3</td>\n",
              "      <td>1997.0</td>\n",
              "      <td>Character</td>\n",
              "    </tr>\n",
              "    <tr>\n",
              "      <th>7</th>\n",
              "      <td>8</td>\n",
              "      <td>2004.0</td>\n",
              "      <td>What the #$*! Do We Know!?</td>\n",
              "    </tr>\n",
              "    <tr>\n",
              "      <th>15</th>\n",
              "      <td>16</td>\n",
              "      <td>1996.0</td>\n",
              "      <td>Screamers</td>\n",
              "    </tr>\n",
              "    <tr>\n",
              "      <th>16</th>\n",
              "      <td>17</td>\n",
              "      <td>2005.0</td>\n",
              "      <td>7 Seconds</td>\n",
              "    </tr>\n",
              "    <tr>\n",
              "      <th>17</th>\n",
              "      <td>18</td>\n",
              "      <td>1994.0</td>\n",
              "      <td>Immortal Beloved</td>\n",
              "    </tr>\n",
              "    <tr>\n",
              "      <th>...</th>\n",
              "      <td>...</td>\n",
              "      <td>...</td>\n",
              "      <td>...</td>\n",
              "    </tr>\n",
              "    <tr>\n",
              "      <th>17765</th>\n",
              "      <td>17766</td>\n",
              "      <td>2002.0</td>\n",
              "      <td>Where the Wild Things Are and Other Maurice Se...</td>\n",
              "    </tr>\n",
              "    <tr>\n",
              "      <th>17766</th>\n",
              "      <td>17767</td>\n",
              "      <td>2004.0</td>\n",
              "      <td>Fidel Castro: American Experience</td>\n",
              "    </tr>\n",
              "    <tr>\n",
              "      <th>17767</th>\n",
              "      <td>17768</td>\n",
              "      <td>2000.0</td>\n",
              "      <td>Epoch</td>\n",
              "    </tr>\n",
              "    <tr>\n",
              "      <th>17768</th>\n",
              "      <td>17769</td>\n",
              "      <td>2003.0</td>\n",
              "      <td>The Company</td>\n",
              "    </tr>\n",
              "    <tr>\n",
              "      <th>17769</th>\n",
              "      <td>17770</td>\n",
              "      <td>2003.0</td>\n",
              "      <td>Alien Hunter</td>\n",
              "    </tr>\n",
              "  </tbody>\n",
              "</table>\n",
              "<p>14621 rows × 3 columns</p>\n",
              "</div>"
            ],
            "text/plain": [
              "       Movie_Id    Year                                               Name\n",
              "2             3  1997.0                                          Character\n",
              "7             8  2004.0                         What the #$*! Do We Know!?\n",
              "15           16  1996.0                                          Screamers\n",
              "16           17  2005.0                                          7 Seconds\n",
              "17           18  1994.0                                   Immortal Beloved\n",
              "...         ...     ...                                                ...\n",
              "17765     17766  2002.0  Where the Wild Things Are and Other Maurice Se...\n",
              "17766     17767  2004.0                  Fidel Castro: American Experience\n",
              "17767     17768  2000.0                                              Epoch\n",
              "17768     17769  2003.0                                        The Company\n",
              "17769     17770  2003.0                                       Alien Hunter\n",
              "\n",
              "[14621 rows x 3 columns]"
            ]
          },
          "metadata": {
            "tags": []
          },
          "execution_count": 27
        }
      ]
    },
    {
      "cell_type": "code",
      "metadata": {
        "id": "sh7wpP8s8MMu",
        "colab_type": "code",
        "colab": {
          "base_uri": "https://localhost:8080/",
          "height": 34
        },
        "outputId": "1b7c1449-5b27-4642-a835-50cf1b944423"
      },
      "source": [
        "# getting full dataset\n",
        "data = Dataset.load_from_df(df[['Cust_Id', 'Movie_Id', 'Rating']], reader)\n",
        "\n",
        "trainset = data.build_full_trainset()\n",
        "svd.fit(trainset)"
      ],
      "execution_count": null,
      "outputs": [
        {
          "output_type": "execute_result",
          "data": {
            "text/plain": [
              "<surprise.prediction_algorithms.matrix_factorization.SVD at 0x7f73bade3d68>"
            ]
          },
          "metadata": {
            "tags": []
          },
          "execution_count": 28
        }
      ]
    },
    {
      "cell_type": "code",
      "metadata": {
        "id": "lr6NuoONDJwy",
        "colab_type": "code",
        "colab": {}
      },
      "source": [
        "user_785314['Estimate_Score'] = user_785314['Movie_Id'].apply(lambda x: svd.predict(785314, x).est)"
      ],
      "execution_count": null,
      "outputs": []
    },
    {
      "cell_type": "code",
      "metadata": {
        "id": "xlVazJM9Jr5W",
        "colab_type": "code",
        "colab": {
          "base_uri": "https://localhost:8080/",
          "height": 202
        },
        "outputId": "1e47d6ec-1765-4842-929c-68ea2ee844f0"
      },
      "source": [
        "user_785314 = user_785314.drop('Movie_Id', axis = 1)\n",
        "\n",
        "user_785314 = user_785314.sort_values('Estimate_Score', ascending=False)\n",
        "print(user_785314.head(10))"
      ],
      "execution_count": null,
      "outputs": [
        {
          "output_type": "stream",
          "text": [
            "        Year                               Name  Estimate_Score\n",
            "1799  2002.0        An Evening With Kevin Smith        5.000000\n",
            "1551  1983.0                        Black Adder        5.000000\n",
            "3167  1987.0          Evil Dead 2: Dead by Dawn        5.000000\n",
            "4382  2004.0     Farscape: The Peacekeeper Wars        4.989085\n",
            "4391  1993.0                   Army of Darkness        4.967751\n",
            "3045  1990.0  The Simpsons: Treehouse of Horror        4.837910\n",
            "1031  1992.0                        Hard Boiled        4.815788\n",
            "2553  1975.0      The Rocky Horror Picture Show        4.736282\n",
            "2018  2004.0                   Samurai Champloo        4.727786\n",
            "1276  1988.0                Red Dwarf: Series 3        4.727249\n"
          ],
          "name": "stdout"
        }
      ]
    },
    {
      "cell_type": "code",
      "metadata": {
        "id": "tPg_adFMJvEp",
        "colab_type": "code",
        "colab": {}
      },
      "source": [
        ""
      ],
      "execution_count": null,
      "outputs": []
    },
    {
      "cell_type": "markdown",
      "metadata": {
        "id": "sHqyIamVJzZ5",
        "colab_type": "text"
      },
      "source": [
        "Recommend with Pearsons' R correlation"
      ]
    },
    {
      "cell_type": "markdown",
      "metadata": {
        "id": "RV9PaHuJKFVp",
        "colab_type": "text"
      },
      "source": [
        "get the top 10 highly correlated movies"
      ]
    },
    {
      "cell_type": "code",
      "metadata": {
        "id": "W0AUXsmKJ29c",
        "colab_type": "code",
        "colab": {}
      },
      "source": [
        "def recommend(movie_title, min_count):\n",
        "  print(\"For movie ({})\".format(movie_title))\n",
        "  print(\"- Top 10 movies recommended based on Pearsons'R correlation - \")\n",
        "  i = int(df_title.index[df_title['Name'] == movie_title][0])\n",
        "  target = df_p[i]\n",
        "  similar_to_target = df_p.corrwith(target)\n",
        "  corr_target = pd.DataFrame(similar_to_target, columns = ['PearsonR'])\n",
        "  corr_target.dropna(inplace = True)\n",
        "  corr_target = corr_target.sort_values('PearsonR', ascending = False)\n",
        "  corr_target.index = corr_target.index.map(int)\n",
        "  corr_target = corr_target.join(df_title).join(df_movie_summary)[['PearsonR', 'Name', 'count', 'mean']]\n",
        "  print(corr_target[corr_target['count']>min_count][:10].to_string(index=False))"
      ],
      "execution_count": null,
      "outputs": []
    },
    {
      "cell_type": "code",
      "metadata": {
        "id": "3eB80LNWK2Dj",
        "colab_type": "code",
        "colab": {
          "base_uri": "https://localhost:8080/",
          "height": 235
        },
        "outputId": "a4b54fb7-55a8-4201-f60f-edaa15d509be"
      },
      "source": [
        "recommend(\"What the #$*! Do We Know!?\", 0)"
      ],
      "execution_count": null,
      "outputs": [
        {
          "output_type": "stream",
          "text": [
            "For movie (What the #$*! Do We Know!?)\n",
            "- Top 10 movies recommended based on Pearsons'R correlation - \n",
            " PearsonR                                      Name  count      mean\n",
            " 1.000000                What the #$*! Do We Know!?  14910  3.189805\n",
            " 0.505500                                 Inu-Yasha   1883  4.554434\n",
            " 0.452807  Captain Pantoja and the Special Services   1801  3.417546\n",
            " 0.442354                 Without a Trace: Season 1   2124  3.980226\n",
            " 0.384179                      Yu-Gi-Oh!: The Movie   3173  3.331547\n",
            " 0.383959                                  Scorched   2430  2.894239\n",
            " 0.381173   All Creatures Great and Small: Series 1   2327  3.938118\n",
            " 0.381112           As Time Goes By: Series 1 and 2   2249  4.164073\n",
            " 0.373018                          Cowboys & Angels   2368  3.589527\n",
            " 0.371981                            Biggie & Tupac   1866  3.019293\n"
          ],
          "name": "stdout"
        }
      ]
    },
    {
      "cell_type": "code",
      "metadata": {
        "id": "DLofBblwK5rV",
        "colab_type": "code",
        "colab": {
          "base_uri": "https://localhost:8080/",
          "height": 235
        },
        "outputId": "ad79f010-e123-4c87-dc45-b1f31a0b99e5"
      },
      "source": [
        "recommend(\"X2: X-Men United\", 0)"
      ],
      "execution_count": null,
      "outputs": [
        {
          "output_type": "stream",
          "text": [
            "For movie (X2: X-Men United)\n",
            "- Top 10 movies recommended based on Pearsons'R correlation - \n",
            " PearsonR                                                   Name  count      mean\n",
            " 1.000000                                       X2: X-Men United  98720  3.932202\n",
            " 0.384550                               Batman Beyond: The Movie   2614  3.726855\n",
            " 0.375967                                         Justice League   3591  3.710944\n",
            " 0.361393                       Justice League: Justice on Trial   2961  3.718001\n",
            " 0.338025                     Batman Beyond: Return of the Joker   3704  3.604752\n",
            " 0.335256                                          Batman Begins  54922  4.236699\n",
            " 0.328229                           Batman: Mask of the Phantasm   2823  3.767977\n",
            " 0.327040  Batman: The Animated Series: Tales of the Dark Knight   2432  3.583059\n",
            " 0.316666                        Dragon Ball Z: Super Android 13   2426  3.428689\n",
            " 0.316166                               Mortal Kombat: The Movie   7633  3.165466\n"
          ],
          "name": "stdout"
        }
      ]
    },
    {
      "cell_type": "code",
      "metadata": {
        "id": "ZCfFvmnGLOQ4",
        "colab_type": "code",
        "colab": {}
      },
      "source": [
        ""
      ],
      "execution_count": null,
      "outputs": []
    }
  ]
}